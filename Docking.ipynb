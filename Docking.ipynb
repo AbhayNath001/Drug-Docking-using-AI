{
  "nbformat": 4,
  "nbformat_minor": 0,
  "metadata": {
    "colab": {
      "provenance": [],
      "authorship_tag": "ABX9TyPurkquZFY35WTOZvHVThp0",
      "include_colab_link": true
    },
    "kernelspec": {
      "name": "python3",
      "display_name": "Python 3"
    },
    "language_info": {
      "name": "python"
    }
  },
  "cells": [
    {
      "cell_type": "markdown",
      "metadata": {
        "id": "view-in-github",
        "colab_type": "text"
      },
      "source": [
        "<a href=\"https://colab.research.google.com/github/AbhayNath001/Drug-Docking-using-AI/blob/main/Docking.ipynb\" target=\"_parent\"><img src=\"https://colab.research.google.com/assets/colab-badge.svg\" alt=\"Open In Colab\"/></a>"
      ]
    },
    {
      "cell_type": "code",
      "execution_count": null,
      "metadata": {
        "id": "LxK7eZdTZ4vY"
      },
      "outputs": [],
      "source": [
        "mkdir Docking; cd Docking"
      ]
    },
    {
      "cell_type": "code",
      "source": [
        "!wget \"https://github.com/NguyenTanKhanh/Drug-discovery_khanh/blob/main/docking/ligands.zip?raw=true\" -O ligands.zip"
      ],
      "metadata": {
        "colab": {
          "base_uri": "https://localhost:8080/"
        },
        "id": "ikdmVVjEaI3-",
        "outputId": "010078b8-7e61-49c6-d12b-d2faa3cbd1a6"
      },
      "execution_count": null,
      "outputs": [
        {
          "output_type": "stream",
          "name": "stdout",
          "text": [
            "--2024-03-30 15:04:45--  https://github.com/NguyenTanKhanh/Drug-discovery_khanh/blob/main/docking/ligands.zip?raw=true\n",
            "Resolving github.com (github.com)... 140.82.121.3\n",
            "Connecting to github.com (github.com)|140.82.121.3|:443... connected.\n",
            "HTTP request sent, awaiting response... 302 Found\n",
            "Location: https://github.com/NguyenTanKhanh/Drug-discovery_khanh/raw/main/docking/ligands.zip [following]\n",
            "--2024-03-30 15:04:45--  https://github.com/NguyenTanKhanh/Drug-discovery_khanh/raw/main/docking/ligands.zip\n",
            "Reusing existing connection to github.com:443.\n",
            "HTTP request sent, awaiting response... 302 Found\n",
            "Location: https://raw.githubusercontent.com/NguyenTanKhanh/Drug-discovery_khanh/main/docking/ligands.zip [following]\n",
            "--2024-03-30 15:04:45--  https://raw.githubusercontent.com/NguyenTanKhanh/Drug-discovery_khanh/main/docking/ligands.zip\n",
            "Resolving raw.githubusercontent.com (raw.githubusercontent.com)... 185.199.108.133, 185.199.109.133, 185.199.110.133, ...\n",
            "Connecting to raw.githubusercontent.com (raw.githubusercontent.com)|185.199.108.133|:443... connected.\n",
            "HTTP request sent, awaiting response... 200 OK\n",
            "Length: 1848 (1.8K) [application/zip]\n",
            "Saving to: ‘ligands.zip’\n",
            "\n",
            "ligands.zip         100%[===================>]   1.80K  --.-KB/s    in 0s      \n",
            "\n",
            "2024-03-30 15:04:46 (21.0 MB/s) - ‘ligands.zip’ saved [1848/1848]\n",
            "\n"
          ]
        }
      ]
    },
    {
      "cell_type": "code",
      "source": [
        "ls -lah; unzip ligands.zip"
      ],
      "metadata": {
        "colab": {
          "base_uri": "https://localhost:8080/"
        },
        "id": "kueXdjhoaOyF",
        "outputId": "0e6343aa-ca6c-4688-fd38-45eb24b49290"
      },
      "execution_count": null,
      "outputs": [
        {
          "output_type": "stream",
          "name": "stdout",
          "text": [
            "total 20K\n",
            "drwxr-xr-x 1 root root 4.0K Mar 30 15:04 \u001b[0m\u001b[01;34m.\u001b[0m/\n",
            "drwxr-xr-x 1 root root 4.0K Mar 30 14:56 \u001b[01;34m..\u001b[0m/\n",
            "drwxr-xr-x 4 root root 4.0K Mar 28 22:59 \u001b[01;34m.config\u001b[0m/\n",
            "-rw-r--r-- 1 root root 1.9K Mar 30 15:04 ligands.zip\n",
            "drwxr-xr-x 1 root root 4.0K Mar 28 23:00 \u001b[01;34msample_data\u001b[0m/\n",
            "Archive:  ligands.zip\n",
            "   creating: ligands/\n",
            "  inflating: ligands/5.pdbqt         \n",
            "  inflating: ligands/6.pdbqt         \n",
            "  inflating: ligands/7.pdbqt         \n"
          ]
        }
      ]
    },
    {
      "cell_type": "code",
      "source": [
        "rm ligands.zip; ls -lah"
      ],
      "metadata": {
        "colab": {
          "base_uri": "https://localhost:8080/"
        },
        "id": "rp_QczsvaUOn",
        "outputId": "f295fa88-389c-43a9-d412-047b867d90d5"
      },
      "execution_count": null,
      "outputs": [
        {
          "output_type": "stream",
          "name": "stdout",
          "text": [
            "total 20K\n",
            "drwxr-xr-x 1 root root 4.0K Mar 30 15:04 .\n",
            "drwxr-xr-x 1 root root 4.0K Mar 30 14:56 ..\n",
            "drwxr-xr-x 4 root root 4.0K Mar 28 22:59 .config\n",
            "drwxr-xr-x 2 root root 4.0K Jan 24  2021 ligands\n",
            "drwxr-xr-x 1 root root 4.0K Mar 28 23:00 sample_data\n"
          ]
        }
      ]
    },
    {
      "cell_type": "code",
      "source": [
        "!wget \"https://github.com/NguyenTanKhanh/Drug-discovery_khanh/raw/main/docking/bovineXOR.pdbqt\" -O bovineXOR.pdbqt"
      ],
      "metadata": {
        "colab": {
          "base_uri": "https://localhost:8080/"
        },
        "id": "KCc02fclaak4",
        "outputId": "9ab08b18-8e52-48a1-ddeb-f415838186db"
      },
      "execution_count": null,
      "outputs": [
        {
          "output_type": "stream",
          "name": "stdout",
          "text": [
            "--2024-03-30 15:05:00--  https://github.com/NguyenTanKhanh/Drug-discovery_khanh/raw/main/docking/bovineXOR.pdbqt\n",
            "Resolving github.com (github.com)... 140.82.121.4\n",
            "Connecting to github.com (github.com)|140.82.121.4|:443... connected.\n",
            "HTTP request sent, awaiting response... 302 Found\n",
            "Location: https://raw.githubusercontent.com/NguyenTanKhanh/Drug-discovery_khanh/main/docking/bovineXOR.pdbqt [following]\n",
            "--2024-03-30 15:05:00--  https://raw.githubusercontent.com/NguyenTanKhanh/Drug-discovery_khanh/main/docking/bovineXOR.pdbqt\n",
            "Resolving raw.githubusercontent.com (raw.githubusercontent.com)... 185.199.108.133, 185.199.109.133, 185.199.110.133, ...\n",
            "Connecting to raw.githubusercontent.com (raw.githubusercontent.com)|185.199.108.133|:443... connected.\n",
            "HTTP request sent, awaiting response... 200 OK\n",
            "Length: 941109 (919K) [text/plain]\n",
            "Saving to: ‘bovineXOR.pdbqt’\n",
            "\n",
            "bovineXOR.pdbqt     100%[===================>] 919.05K  --.-KB/s    in 0.02s   \n",
            "\n",
            "2024-03-30 15:05:01 (49.9 MB/s) - ‘bovineXOR.pdbqt’ saved [941109/941109]\n",
            "\n"
          ]
        }
      ]
    },
    {
      "cell_type": "code",
      "source": [
        "ls -lah *"
      ],
      "metadata": {
        "colab": {
          "base_uri": "https://localhost:8080/"
        },
        "id": "gWn5pSSxae_L",
        "outputId": "9ccffc44-2b50-4054-831e-16aecfdb973f"
      },
      "execution_count": null,
      "outputs": [
        {
          "output_type": "stream",
          "name": "stdout",
          "text": [
            "-rw-r--r-- 1 root root 920K Mar 30 15:05 bovineXOR.pdbqt\n",
            "\n",
            "ligands:\n",
            "total 20K\n",
            "drwxr-xr-x 2 root root 4.0K Jan 24  2021 \u001b[0m\u001b[01;34m.\u001b[0m/\n",
            "drwxr-xr-x 1 root root 4.0K Mar 30 15:05 \u001b[01;34m..\u001b[0m/\n",
            "-rw-r--r-- 1 root root 1.3K Sep  8  2020 5.pdbqt\n",
            "-rw-r--r-- 1 root root 1.5K Sep  8  2020 6.pdbqt\n",
            "-rw-r--r-- 1 root root 1.7K Sep  8  2020 7.pdbqt\n",
            "\n",
            "sample_data:\n",
            "total 55M\n",
            "drwxr-xr-x 1 root root 4.0K Mar 28 23:00 \u001b[01;34m.\u001b[0m/\n",
            "drwxr-xr-x 1 root root 4.0K Mar 30 15:05 \u001b[01;34m..\u001b[0m/\n",
            "-rwxr-xr-x 1 root root 1.7K Jan  1  2000 \u001b[01;32manscombe.json\u001b[0m*\n",
            "-rw-r--r-- 1 root root 295K Mar 28 23:00 california_housing_test.csv\n",
            "-rw-r--r-- 1 root root 1.7M Mar 28 23:00 california_housing_train.csv\n",
            "-rw-r--r-- 1 root root  18M Mar 28 23:00 mnist_test.csv\n",
            "-rw-r--r-- 1 root root  35M Mar 28 23:00 mnist_train_small.csv\n",
            "-rwxr-xr-x 1 root root  930 Jan  1  2000 \u001b[01;32mREADME.md\u001b[0m*\n"
          ]
        }
      ]
    },
    {
      "cell_type": "code",
      "source": [
        "!wget \"https://github.com/QVina/qvina/blob/master/bin/qvina2.1?raw=true\" -O qvina"
      ],
      "metadata": {
        "colab": {
          "base_uri": "https://localhost:8080/"
        },
        "id": "riARgap5amN1",
        "outputId": "baaa8ac1-cd9b-4002-e47e-9f18b7505a25"
      },
      "execution_count": null,
      "outputs": [
        {
          "output_type": "stream",
          "name": "stdout",
          "text": [
            "--2024-03-30 15:05:15--  https://github.com/QVina/qvina/blob/master/bin/qvina2.1?raw=true\n",
            "Resolving github.com (github.com)... 140.82.121.3\n",
            "Connecting to github.com (github.com)|140.82.121.3|:443... connected.\n",
            "HTTP request sent, awaiting response... 302 Found\n",
            "Location: https://github.com/QVina/qvina/raw/master/bin/qvina2.1 [following]\n",
            "--2024-03-30 15:05:15--  https://github.com/QVina/qvina/raw/master/bin/qvina2.1\n",
            "Reusing existing connection to github.com:443.\n",
            "HTTP request sent, awaiting response... 302 Found\n",
            "Location: https://raw.githubusercontent.com/QVina/qvina/master/bin/qvina2.1 [following]\n",
            "--2024-03-30 15:05:16--  https://raw.githubusercontent.com/QVina/qvina/master/bin/qvina2.1\n",
            "Resolving raw.githubusercontent.com (raw.githubusercontent.com)... 185.199.108.133, 185.199.109.133, 185.199.110.133, ...\n",
            "Connecting to raw.githubusercontent.com (raw.githubusercontent.com)|185.199.108.133|:443... connected.\n",
            "HTTP request sent, awaiting response... 200 OK\n",
            "Length: 4277120 (4.1M) [application/octet-stream]\n",
            "Saving to: ‘qvina’\n",
            "\n",
            "qvina               100%[===================>]   4.08M  --.-KB/s    in 0.03s   \n",
            "\n",
            "2024-03-30 15:05:16 (141 MB/s) - ‘qvina’ saved [4277120/4277120]\n",
            "\n"
          ]
        }
      ]
    },
    {
      "cell_type": "code",
      "source": [
        "ls -lah *"
      ],
      "metadata": {
        "colab": {
          "base_uri": "https://localhost:8080/"
        },
        "id": "XZWH9NSAasjT",
        "outputId": "c2954607-a802-42e4-9122-8c980b5c4972"
      },
      "execution_count": null,
      "outputs": [
        {
          "output_type": "stream",
          "name": "stdout",
          "text": [
            "-rw-r--r-- 1 root root 920K Mar 30 15:05 bovineXOR.pdbqt\n",
            "-rw-r--r-- 1 root root 4.1M Mar 30 15:05 qvina\n",
            "\n",
            "ligands:\n",
            "total 20K\n",
            "drwxr-xr-x 2 root root 4.0K Jan 24  2021 \u001b[0m\u001b[01;34m.\u001b[0m/\n",
            "drwxr-xr-x 1 root root 4.0K Mar 30 15:05 \u001b[01;34m..\u001b[0m/\n",
            "-rw-r--r-- 1 root root 1.3K Sep  8  2020 5.pdbqt\n",
            "-rw-r--r-- 1 root root 1.5K Sep  8  2020 6.pdbqt\n",
            "-rw-r--r-- 1 root root 1.7K Sep  8  2020 7.pdbqt\n",
            "\n",
            "sample_data:\n",
            "total 55M\n",
            "drwxr-xr-x 1 root root 4.0K Mar 28 23:00 \u001b[01;34m.\u001b[0m/\n",
            "drwxr-xr-x 1 root root 4.0K Mar 30 15:05 \u001b[01;34m..\u001b[0m/\n",
            "-rwxr-xr-x 1 root root 1.7K Jan  1  2000 \u001b[01;32manscombe.json\u001b[0m*\n",
            "-rw-r--r-- 1 root root 295K Mar 28 23:00 california_housing_test.csv\n",
            "-rw-r--r-- 1 root root 1.7M Mar 28 23:00 california_housing_train.csv\n",
            "-rw-r--r-- 1 root root  18M Mar 28 23:00 mnist_test.csv\n",
            "-rw-r--r-- 1 root root  35M Mar 28 23:00 mnist_train_small.csv\n",
            "-rwxr-xr-x 1 root root  930 Jan  1  2000 \u001b[01;32mREADME.md\u001b[0m*\n"
          ]
        }
      ]
    },
    {
      "cell_type": "code",
      "source": [
        "!chmod +x qvina"
      ],
      "metadata": {
        "id": "x4GStxzEawkF"
      },
      "execution_count": null,
      "outputs": []
    },
    {
      "cell_type": "code",
      "source": [
        "!./qvina --help"
      ],
      "metadata": {
        "colab": {
          "base_uri": "https://localhost:8080/"
        },
        "id": "R-QBpIyOazz-",
        "outputId": "f5ce3671-d1a4-4e9a-d1a5-5884c078cb86"
      },
      "execution_count": null,
      "outputs": [
        {
          "output_type": "stream",
          "name": "stdout",
          "text": [
            "\n",
            "Input:\n",
            "  --receptor arg             rigid part of the receptor (PDBQT)\n",
            "  --flex arg                 flexible side chains, if any (PDBQT)\n",
            "  --ligand arg               ligand (PDBQT)\n",
            "\n",
            "Search space (required):\n",
            "  --center_x arg             X coordinate of the center\n",
            "  --center_y arg             Y coordinate of the center\n",
            "  --center_z arg             Z coordinate of the center\n",
            "  --size_x arg               size in the X dimension (Angstroms)\n",
            "  --size_y arg               size in the Y dimension (Angstroms)\n",
            "  --size_z arg               size in the Z dimension (Angstroms)\n",
            "\n",
            "Output (optional):\n",
            "  --out arg                  output models (PDBQT), the default is chosen based\n",
            "                             on the ligand file name\n",
            "  --log arg                  optionally, write log file\n",
            "\n",
            "Misc (optional):\n",
            "  --cpu arg                  the number of CPUs to use (the default is to try \n",
            "                             to detect the number of CPUs or, failing that, use\n",
            "                             1)\n",
            "  --seed arg                 explicit random seed\n",
            "  --exhaustiveness arg (=8)  exhaustiveness of the global search (roughly \n",
            "                             proportional to time): 1+\n",
            "  --num_modes arg (=9)       maximum number of binding modes to generate\n",
            "  --energy_range arg (=3)    maximum energy difference between the best binding\n",
            "                             mode and the worst one displayed (kcal/mol)\n",
            "\n",
            "Configuration file (optional):\n",
            "  --config arg               the above options can be put here\n",
            "\n",
            "Information (optional):\n",
            "  --help                     display usage summary\n",
            "  --help_advanced            display usage summary with advanced options\n",
            "  --version                  display program version\n",
            "\n"
          ]
        }
      ]
    },
    {
      "cell_type": "code",
      "source": [
        "!echo receptor = bovineXOR.pdbqt > config.txt\n",
        "!echo center_x = 40 >> config.txt\n",
        "!echo center_y = 22 >> config.txt\n",
        "!echo center_z = 16 >> config.txt\n",
        "!echo  >> config.txt\n",
        "!echo size_x = 30 >> config.txt\n",
        "!echo size_y = 30 >> config.txt\n",
        "!echo size_z = 30 >> config.txt\n",
        "!echo  >> config.txt\n",
        "!echo exhaustiveness = 8 >> config.txt"
      ],
      "metadata": {
        "id": "kf9P_CC6a4Mt"
      },
      "execution_count": null,
      "outputs": []
    },
    {
      "cell_type": "code",
      "source": [
        "!cat config.txt"
      ],
      "metadata": {
        "colab": {
          "base_uri": "https://localhost:8080/"
        },
        "id": "fTBZGOnSa8Dl",
        "outputId": "65ac44d2-2090-42ca-b0be-8a4a44d95e2a"
      },
      "execution_count": null,
      "outputs": [
        {
          "output_type": "stream",
          "name": "stdout",
          "text": [
            "receptor = bovineXOR.pdbqt\n",
            "center_x = 40\n",
            "center_y = 22\n",
            "center_z = 16\n",
            "\n",
            "size_x = 30\n",
            "size_y = 30\n",
            "size_z = 30\n",
            "\n",
            "exhaustiveness = 8\n"
          ]
        }
      ]
    },
    {
      "cell_type": "code",
      "source": [
        "mkdir output"
      ],
      "metadata": {
        "id": "zPfuJgOHbAPD"
      },
      "execution_count": null,
      "outputs": []
    },
    {
      "cell_type": "code",
      "source": [
        "!for ligand in $(ls -1 ./ligands/); do ./qvina --ligand ./ligands/6.pdbqt --out ./output/output_ligand --config config.txt >> docking_result_output.txt; done\n",
        "\n"
      ],
      "metadata": {
        "id": "StkYcqf4bMT-"
      },
      "execution_count": null,
      "outputs": []
    },
    {
      "cell_type": "code",
      "source": [
        "ls -la output"
      ],
      "metadata": {
        "colab": {
          "base_uri": "https://localhost:8080/"
        },
        "id": "c47ItmLMb2o8",
        "outputId": "ff59aa14-039e-42e7-ed82-89e376737061"
      },
      "execution_count": null,
      "outputs": [
        {
          "output_type": "stream",
          "name": "stdout",
          "text": [
            "total 24\n",
            "drwxr-xr-x 2 root root  4096 Mar 30 15:06 \u001b[0m\u001b[01;34m.\u001b[0m/\n",
            "drwxr-xr-x 1 root root  4096 Mar 30 15:06 \u001b[01;34m..\u001b[0m/\n",
            "-rw-r--r-- 1 root root 13824 Mar 30 15:06 output_ligand\n"
          ]
        }
      ]
    },
    {
      "cell_type": "code",
      "source": [
        "!cat docking_result_output.txt"
      ],
      "metadata": {
        "colab": {
          "base_uri": "https://localhost:8080/"
        },
        "id": "OsOSoTm1b7KL",
        "outputId": "21c2f3b0-47c0-4e9d-edd9-71d49754ab7f"
      },
      "execution_count": null,
      "outputs": [
        {
          "output_type": "stream",
          "name": "stdout",
          "text": [
            "############################################################################\n",
            "# If you used Quick Vina 2 in your work, please cite:                      #\n",
            "#                                                                          #\n",
            "# Amr Alhossary, Stephanus Daniel Handoko, Yuguang Mu, and Chee-Keong Kwoh,#\n",
            "# Fast, Accurate, and Reliable Molecular Docking with QuickVina 2,         #\n",
            "# Bioinformatics (2015), doi: 10.1093/bioinformatics/btv082                #\n",
            "#                                                                          #\n",
            "# You are also encouraged to cite Quick Vina 1:                            #\n",
            "# Stephanus Daniel Handoko, Xuchang Ouyang, Chinh Tran To Su, Chee Keong   #\n",
            "# Kwoh, Yew Soon Ong,                                                      #\n",
            "# QuickVina: Accelerating AutoDock Vina Using Gradient-Based Heuristics for#\n",
            "# Global Optimization,                                                     #\n",
            "# IEEE/ACM Transactions on Computational Biology and Bioinformatics,vol.9, #\n",
            "# no. 5, pp. 1266-1272, Sept.-Oct. 2012, doi: 10.1109/TCBB.2012.82         #\n",
            "#                                                                          #\n",
            "# and original AutoDock Vina paper:                                        #\n",
            "# O. Trott, A. J. Olson,                                                   #\n",
            "# AutoDock Vina: improving the speed and accuracy of docking with a        #\n",
            "# new scoring function, efficient optimization and multithreading,         #\n",
            "# Journal of Computational Chemistry 31 (2010) 455-461                     #\n",
            "# doi: 10.1002/jcc.21334                                                   #\n",
            "############################################################################\n",
            "\n",
            "Detected 2 CPUs\n",
            "Reading input ... done.\n",
            "Setting up the scoring function ... done.\n",
            "Analyzing the binding site ... done.\n",
            "Using random seed: -1875146348\n",
            "Performing search ... \n",
            "0%   10   20   30   40   50   60   70   80   90   100%\n",
            "|----|----|----|----|----|----|----|----|----|----|\n",
            "***************************************************\n",
            "done.\n",
            "Refining results ... \n",
            "searching finished in 9.257 seconds\n",
            "done.\n",
            "\n",
            "mode |   affinity | dist from best mode\n",
            "     | (kcal/mol) | rmsd l.b.| rmsd u.b.\n",
            "-----+------------+----------+----------\n",
            "   1         -6.2      0.000      0.000\n",
            "   2         -5.6      0.782      5.532\n",
            "   3         -5.3      8.383     10.795\n",
            "   4         -5.3      5.965      8.694\n",
            "   5         -5.3      8.368     10.110\n",
            "   6         -5.2      8.263     10.312\n",
            "   7         -5.2      1.535      5.574\n",
            "   8         -5.1      8.198     11.228\n",
            "   9         -5.0      7.994     10.927\n",
            "Writing output ... done.\n",
            "############################################################################\n",
            "# If you used Quick Vina 2 in your work, please cite:                      #\n",
            "#                                                                          #\n",
            "# Amr Alhossary, Stephanus Daniel Handoko, Yuguang Mu, and Chee-Keong Kwoh,#\n",
            "# Fast, Accurate, and Reliable Molecular Docking with QuickVina 2,         #\n",
            "# Bioinformatics (2015), doi: 10.1093/bioinformatics/btv082                #\n",
            "#                                                                          #\n",
            "# You are also encouraged to cite Quick Vina 1:                            #\n",
            "# Stephanus Daniel Handoko, Xuchang Ouyang, Chinh Tran To Su, Chee Keong   #\n",
            "# Kwoh, Yew Soon Ong,                                                      #\n",
            "# QuickVina: Accelerating AutoDock Vina Using Gradient-Based Heuristics for#\n",
            "# Global Optimization,                                                     #\n",
            "# IEEE/ACM Transactions on Computational Biology and Bioinformatics,vol.9, #\n",
            "# no. 5, pp. 1266-1272, Sept.-Oct. 2012, doi: 10.1109/TCBB.2012.82         #\n",
            "#                                                                          #\n",
            "# and original AutoDock Vina paper:                                        #\n",
            "# O. Trott, A. J. Olson,                                                   #\n",
            "# AutoDock Vina: improving the speed and accuracy of docking with a        #\n",
            "# new scoring function, efficient optimization and multithreading,         #\n",
            "# Journal of Computational Chemistry 31 (2010) 455-461                     #\n",
            "# doi: 10.1002/jcc.21334                                                   #\n",
            "############################################################################\n",
            "\n",
            "Detected 2 CPUs\n",
            "Reading input ... done.\n",
            "Setting up the scoring function ... done.\n",
            "Analyzing the binding site ... done.\n",
            "Using random seed: 1270593933\n",
            "Performing search ... \n",
            "0%   10   20   30   40   50   60   70   80   90   100%\n",
            "|----|----|----|----|----|----|----|----|----|----|\n",
            "***************************************************\n",
            "done.\n",
            "Refining results ... \n",
            "searching finished in 9.919 seconds\n",
            "done.\n",
            "\n",
            "mode |   affinity | dist from best mode\n",
            "     | (kcal/mol) | rmsd l.b.| rmsd u.b.\n",
            "-----+------------+----------+----------\n",
            "   1         -5.7      0.000      0.000\n",
            "   2         -5.4     10.191     12.530\n",
            "   3         -5.4      9.921     12.826\n",
            "   4         -5.4      6.723     10.120\n",
            "   5         -5.3      5.333      7.199\n",
            "   6         -5.2      1.084      5.928\n",
            "   7         -5.1      5.081      6.010\n",
            "   8         -5.0      5.180      7.968\n",
            "   9         -4.9     12.268     14.058\n",
            "Writing output ... done.\n",
            "############################################################################\n",
            "# If you used Quick Vina 2 in your work, please cite:                      #\n",
            "#                                                                          #\n",
            "# Amr Alhossary, Stephanus Daniel Handoko, Yuguang Mu, and Chee-Keong Kwoh,#\n",
            "# Fast, Accurate, and Reliable Molecular Docking with QuickVina 2,         #\n",
            "# Bioinformatics (2015), doi: 10.1093/bioinformatics/btv082                #\n",
            "#                                                                          #\n",
            "# You are also encouraged to cite Quick Vina 1:                            #\n",
            "# Stephanus Daniel Handoko, Xuchang Ouyang, Chinh Tran To Su, Chee Keong   #\n",
            "# Kwoh, Yew Soon Ong,                                                      #\n",
            "# QuickVina: Accelerating AutoDock Vina Using Gradient-Based Heuristics for#\n",
            "# Global Optimization,                                                     #\n",
            "# IEEE/ACM Transactions on Computational Biology and Bioinformatics,vol.9, #\n",
            "# no. 5, pp. 1266-1272, Sept.-Oct. 2012, doi: 10.1109/TCBB.2012.82         #\n",
            "#                                                                          #\n",
            "# and original AutoDock Vina paper:                                        #\n",
            "# O. Trott, A. J. Olson,                                                   #\n",
            "# AutoDock Vina: improving the speed and accuracy of docking with a        #\n",
            "# new scoring function, efficient optimization and multithreading,         #\n",
            "# Journal of Computational Chemistry 31 (2010) 455-461                     #\n",
            "# doi: 10.1002/jcc.21334                                                   #\n",
            "############################################################################\n",
            "\n",
            "Detected 2 CPUs\n",
            "Reading input ... done.\n",
            "Setting up the scoring function ... done.\n",
            "Analyzing the binding site ... done.\n",
            "Using random seed: 121370436\n",
            "Performing search ... \n",
            "0%   10   20   30   40   50   60   70   80   90   100%\n",
            "|----|----|----|----|----|----|----|----|----|----|\n",
            "***************************************************\n",
            "done.\n",
            "Refining results ... \n",
            "searching finished in 9.941 seconds\n",
            "done.\n",
            "\n",
            "mode |   affinity | dist from best mode\n",
            "     | (kcal/mol) | rmsd l.b.| rmsd u.b.\n",
            "-----+------------+----------+----------\n",
            "   1         -5.8      0.000      0.000\n",
            "   2         -5.7      1.385      3.002\n",
            "   3         -5.5      4.691      7.697\n",
            "   4         -5.4      8.296     10.743\n",
            "   5         -5.4      0.760      5.283\n",
            "   6         -5.4      9.753     12.206\n",
            "   7         -5.4      7.797     10.754\n",
            "   8         -5.3      6.994      9.092\n",
            "   9         -5.3      1.886      6.419\n",
            "Writing output ... done.\n"
          ]
        }
      ]
    }
  ]
}