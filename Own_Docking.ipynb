{
  "nbformat": 4,
  "nbformat_minor": 0,
  "metadata": {
    "colab": {
      "provenance": [],
      "authorship_tag": "ABX9TyPL9k2b12XBmYcMElFbdxNg",
      "include_colab_link": true
    },
    "kernelspec": {
      "name": "python3",
      "display_name": "Python 3"
    },
    "language_info": {
      "name": "python"
    }
  },
  "cells": [
    {
      "cell_type": "markdown",
      "metadata": {
        "id": "view-in-github",
        "colab_type": "text"
      },
      "source": [
        "<a href=\"https://colab.research.google.com/github/AbhayNath001/Drug-Docking-using-AI/blob/main/Own_Docking.ipynb\" target=\"_parent\"><img src=\"https://colab.research.google.com/assets/colab-badge.svg\" alt=\"Open In Colab\"/></a>"
      ]
    },
    {
      "cell_type": "markdown",
      "source": [
        "# **1. Create a directory named \"Docking\".**"
      ],
      "metadata": {
        "id": "9kehfwUyoCkL"
      }
    },
    {
      "cell_type": "code",
      "execution_count": null,
      "metadata": {
        "id": "D-wzdaEeexzv"
      },
      "outputs": [],
      "source": [
        "mkdir Docking; cd Docking"
      ]
    },
    {
      "cell_type": "markdown",
      "source": [
        "# **2. Prepare for ligands**"
      ],
      "metadata": {
        "id": "ZZMzpQQ5oQhx"
      }
    },
    {
      "cell_type": "code",
      "source": [
        "!wget \"https://github.com/AbhayNath001/Drug-Docking-using-AI/blob/main/ligands.zip?raw=true\" -O ligands.zip"
      ],
      "metadata": {
        "colab": {
          "base_uri": "https://localhost:8080/"
        },
        "id": "2cPynx3Sgpzh",
        "outputId": "23d8df8f-986e-464a-f75c-e7a13fa0810c"
      },
      "execution_count": null,
      "outputs": [
        {
          "output_type": "stream",
          "name": "stdout",
          "text": [
            "--2024-03-31 03:21:25--  https://github.com/AbhayNath001/Drug-Docking-using-AI/blob/main/ligands.zip?raw=true\n",
            "Resolving github.com (github.com)... 140.82.112.3\n",
            "Connecting to github.com (github.com)|140.82.112.3|:443... connected.\n",
            "HTTP request sent, awaiting response... 302 Found\n",
            "Location: https://github.com/AbhayNath001/Drug-Docking-using-AI/raw/main/ligands.zip [following]\n",
            "--2024-03-31 03:21:25--  https://github.com/AbhayNath001/Drug-Docking-using-AI/raw/main/ligands.zip\n",
            "Reusing existing connection to github.com:443.\n",
            "HTTP request sent, awaiting response... 302 Found\n",
            "Location: https://raw.githubusercontent.com/AbhayNath001/Drug-Docking-using-AI/main/ligands.zip [following]\n",
            "--2024-03-31 03:21:25--  https://raw.githubusercontent.com/AbhayNath001/Drug-Docking-using-AI/main/ligands.zip\n",
            "Resolving raw.githubusercontent.com (raw.githubusercontent.com)... 185.199.108.133, 185.199.109.133, 185.199.110.133, ...\n",
            "Connecting to raw.githubusercontent.com (raw.githubusercontent.com)|185.199.108.133|:443... connected.\n",
            "HTTP request sent, awaiting response... 200 OK\n",
            "Length: 1624 (1.6K) [application/zip]\n",
            "Saving to: ‘ligands.zip’\n",
            "\n",
            "\rligands.zip           0%[                    ]       0  --.-KB/s               \rligands.zip         100%[===================>]   1.59K  --.-KB/s    in 0s      \n",
            "\n",
            "2024-03-31 03:21:25 (20.8 MB/s) - ‘ligands.zip’ saved [1624/1624]\n",
            "\n"
          ]
        }
      ]
    },
    {
      "cell_type": "code",
      "source": [
        "ls -lah; unzip ligands.zip"
      ],
      "metadata": {
        "colab": {
          "base_uri": "https://localhost:8080/"
        },
        "id": "_HdpWCX2hpxa",
        "outputId": "0c5b1a1b-b73a-490c-d8a6-c9b1ad1c46cc"
      },
      "execution_count": null,
      "outputs": [
        {
          "output_type": "stream",
          "name": "stdout",
          "text": [
            "total 24K\n",
            "drwxr-xr-x 1 root root 4.0K Mar 31 03:18 \u001b[0m\u001b[01;34m.\u001b[0m/\n",
            "drwxr-xr-x 1 root root 4.0K Mar 31 03:07 \u001b[01;34m..\u001b[0m/\n",
            "drwxr-xr-x 4 root root 4.0K Mar 28 22:59 \u001b[01;34m.config\u001b[0m/\n",
            "drwxr-xr-x 2 root root 4.0K Mar 31 03:13 \u001b[01;34mDocking\u001b[0m/\n",
            "-rw-r--r-- 1 root root 1.6K Mar 31 03:21 ligands.zip\n",
            "drwxr-xr-x 1 root root 4.0K Mar 28 23:00 \u001b[01;34msample_data\u001b[0m/\n",
            "Archive:  ligands.zip\n",
            "  inflating: ligands/5.pdbqt         \n",
            "  inflating: ligands/6.pdbqt         \n",
            "  inflating: ligands/7.pdbqt         \n"
          ]
        }
      ]
    },
    {
      "cell_type": "code",
      "source": [
        "rm ligands.zip; ls -lah"
      ],
      "metadata": {
        "colab": {
          "base_uri": "https://localhost:8080/"
        },
        "id": "nyCqQtYdhvHE",
        "outputId": "5b97c90e-f1a1-4b38-e4be-c09af8a4566b"
      },
      "execution_count": null,
      "outputs": [
        {
          "output_type": "stream",
          "name": "stdout",
          "text": [
            "total 24K\n",
            "drwxr-xr-x 1 root root 4.0K Mar 31 03:22 .\n",
            "drwxr-xr-x 1 root root 4.0K Mar 31 03:07 ..\n",
            "drwxr-xr-x 4 root root 4.0K Mar 28 22:59 .config\n",
            "drwxr-xr-x 2 root root 4.0K Mar 31 03:13 Docking\n",
            "drwxr-xr-x 2 root root 4.0K Mar 31 03:22 ligands\n",
            "drwxr-xr-x 1 root root 4.0K Mar 28 23:00 sample_data\n"
          ]
        }
      ]
    },
    {
      "cell_type": "markdown",
      "source": [
        "# **3. Prepare for target**"
      ],
      "metadata": {
        "id": "-jJC64VUoaT6"
      }
    },
    {
      "cell_type": "code",
      "source": [
        "!wget \"https://raw.githubusercontent.com/AbhayNath001/Drug-Docking-using-AI/main/Target/bovineXOR.pdbqt\" -O bovineXOR.pdbqt"
      ],
      "metadata": {
        "colab": {
          "base_uri": "https://localhost:8080/"
        },
        "id": "qaCCiR7jhz3V",
        "outputId": "f43496dd-a6d0-4e08-c9c9-cdf009d373ba"
      },
      "execution_count": null,
      "outputs": [
        {
          "output_type": "stream",
          "name": "stdout",
          "text": [
            "--2024-03-31 03:30:41--  https://raw.githubusercontent.com/AbhayNath001/Drug-Docking-using-AI/main/Target/bovineXOR.pdbqt\n",
            "Resolving raw.githubusercontent.com (raw.githubusercontent.com)... 185.199.108.133, 185.199.109.133, 185.199.110.133, ...\n",
            "Connecting to raw.githubusercontent.com (raw.githubusercontent.com)|185.199.108.133|:443... connected.\n",
            "HTTP request sent, awaiting response... 200 OK\n",
            "Length: 941109 (919K) [text/plain]\n",
            "Saving to: ‘bovineXOR.pdbqt’\n",
            "\n",
            "\rbovineXOR.pdbqt       0%[                    ]       0  --.-KB/s               \rbovineXOR.pdbqt     100%[===================>] 919.05K  --.-KB/s    in 0.007s  \n",
            "\n",
            "2024-03-31 03:30:41 (122 MB/s) - ‘bovineXOR.pdbqt’ saved [941109/941109]\n",
            "\n"
          ]
        }
      ]
    },
    {
      "cell_type": "code",
      "source": [
        "ls -lah *"
      ],
      "metadata": {
        "colab": {
          "base_uri": "https://localhost:8080/"
        },
        "id": "xpZOADoyjsbL",
        "outputId": "f9d769f2-606c-4cc5-8d23-624db6fa9bbb"
      },
      "execution_count": null,
      "outputs": [
        {
          "output_type": "stream",
          "name": "stdout",
          "text": [
            "-rw-r--r-- 1 root root 920K Mar 31 03:30 bovineXOR.pdbqt\n",
            "\n",
            "Docking:\n",
            "total 8.0K\n",
            "drwxr-xr-x 2 root root 4.0K Mar 31 03:13 \u001b[0m\u001b[01;34m.\u001b[0m/\n",
            "drwxr-xr-x 1 root root 4.0K Mar 31 03:30 \u001b[01;34m..\u001b[0m/\n",
            "\n",
            "ligands:\n",
            "total 20K\n",
            "drwxr-xr-x 2 root root 4.0K Mar 31 03:22 \u001b[01;34m.\u001b[0m/\n",
            "drwxr-xr-x 1 root root 4.0K Mar 31 03:30 \u001b[01;34m..\u001b[0m/\n",
            "-rw-r--r-- 1 root root 1.3K Mar 31  2024 5.pdbqt\n",
            "-rw-r--r-- 1 root root 1.5K Mar 31  2024 6.pdbqt\n",
            "-rw-r--r-- 1 root root 1.7K Mar 31  2024 7.pdbqt\n",
            "\n",
            "sample_data:\n",
            "total 55M\n",
            "drwxr-xr-x 1 root root 4.0K Mar 28 23:00 \u001b[01;34m.\u001b[0m/\n",
            "drwxr-xr-x 1 root root 4.0K Mar 31 03:30 \u001b[01;34m..\u001b[0m/\n",
            "-rwxr-xr-x 1 root root 1.7K Jan  1  2000 \u001b[01;32manscombe.json\u001b[0m*\n",
            "-rw-r--r-- 1 root root 295K Mar 28 23:00 california_housing_test.csv\n",
            "-rw-r--r-- 1 root root 1.7M Mar 28 23:00 california_housing_train.csv\n",
            "-rw-r--r-- 1 root root  18M Mar 28 23:00 mnist_test.csv\n",
            "-rw-r--r-- 1 root root  35M Mar 28 23:00 mnist_train_small.csv\n",
            "-rwxr-xr-x 1 root root  930 Jan  1  2000 \u001b[01;32mREADME.md\u001b[0m*\n"
          ]
        }
      ]
    },
    {
      "cell_type": "markdown",
      "source": [
        "# **4.Download autodock vina**"
      ],
      "metadata": {
        "id": "uKxFZ13gohow"
      }
    },
    {
      "cell_type": "code",
      "source": [
        "!wget \"https://github.com/AbhayNath001/Drug-Docking-using-AI/blob/main/vina/qvina2.1?raw=true\" -O qvina"
      ],
      "metadata": {
        "colab": {
          "base_uri": "https://localhost:8080/"
        },
        "id": "d-qW13gXj0Jy",
        "outputId": "b5a689ce-599a-4ff2-da43-beda747e776b"
      },
      "execution_count": null,
      "outputs": [
        {
          "output_type": "stream",
          "name": "stdout",
          "text": [
            "--2024-03-31 03:40:22--  https://github.com/AbhayNath001/Drug-Docking-using-AI/blob/main/vina/qvina2.1?raw=true\n",
            "Resolving github.com (github.com)... 140.82.113.3\n",
            "Connecting to github.com (github.com)|140.82.113.3|:443... connected.\n",
            "HTTP request sent, awaiting response... 302 Found\n",
            "Location: https://github.com/AbhayNath001/Drug-Docking-using-AI/raw/main/vina/qvina2.1 [following]\n",
            "--2024-03-31 03:40:23--  https://github.com/AbhayNath001/Drug-Docking-using-AI/raw/main/vina/qvina2.1\n",
            "Reusing existing connection to github.com:443.\n",
            "HTTP request sent, awaiting response... 302 Found\n",
            "Location: https://raw.githubusercontent.com/AbhayNath001/Drug-Docking-using-AI/main/vina/qvina2.1 [following]\n",
            "--2024-03-31 03:40:23--  https://raw.githubusercontent.com/AbhayNath001/Drug-Docking-using-AI/main/vina/qvina2.1\n",
            "Resolving raw.githubusercontent.com (raw.githubusercontent.com)... 185.199.108.133, 185.199.109.133, 185.199.110.133, ...\n",
            "Connecting to raw.githubusercontent.com (raw.githubusercontent.com)|185.199.108.133|:443... connected.\n",
            "HTTP request sent, awaiting response... 200 OK\n",
            "Length: 4277120 (4.1M) [application/octet-stream]\n",
            "Saving to: ‘qvina’\n",
            "\n",
            "qvina               100%[===================>]   4.08M  --.-KB/s    in 0.02s   \n",
            "\n",
            "2024-03-31 03:40:23 (259 MB/s) - ‘qvina’ saved [4277120/4277120]\n",
            "\n"
          ]
        }
      ]
    },
    {
      "cell_type": "code",
      "source": [
        "ls -lah *"
      ],
      "metadata": {
        "colab": {
          "base_uri": "https://localhost:8080/"
        },
        "id": "EAI5wvnrl5Ys",
        "outputId": "e5d40769-ccd9-49de-938b-59c9bc260318"
      },
      "execution_count": null,
      "outputs": [
        {
          "output_type": "stream",
          "name": "stdout",
          "text": [
            "-rw-r--r-- 1 root root 920K Mar 31 03:30 bovineXOR.pdbqt\n",
            "-rw-r--r-- 1 root root 4.1M Mar 31 03:40 qvina\n",
            "\n",
            "Docking:\n",
            "total 8.0K\n",
            "drwxr-xr-x 2 root root 4.0K Mar 31 03:13 \u001b[0m\u001b[01;34m.\u001b[0m/\n",
            "drwxr-xr-x 1 root root 4.0K Mar 31 03:40 \u001b[01;34m..\u001b[0m/\n",
            "\n",
            "ligands:\n",
            "total 20K\n",
            "drwxr-xr-x 2 root root 4.0K Mar 31 03:22 \u001b[01;34m.\u001b[0m/\n",
            "drwxr-xr-x 1 root root 4.0K Mar 31 03:40 \u001b[01;34m..\u001b[0m/\n",
            "-rw-r--r-- 1 root root 1.3K Mar 31  2024 5.pdbqt\n",
            "-rw-r--r-- 1 root root 1.5K Mar 31  2024 6.pdbqt\n",
            "-rw-r--r-- 1 root root 1.7K Mar 31  2024 7.pdbqt\n",
            "\n",
            "sample_data:\n",
            "total 55M\n",
            "drwxr-xr-x 1 root root 4.0K Mar 28 23:00 \u001b[01;34m.\u001b[0m/\n",
            "drwxr-xr-x 1 root root 4.0K Mar 31 03:40 \u001b[01;34m..\u001b[0m/\n",
            "-rwxr-xr-x 1 root root 1.7K Jan  1  2000 \u001b[01;32manscombe.json\u001b[0m*\n",
            "-rw-r--r-- 1 root root 295K Mar 28 23:00 california_housing_test.csv\n",
            "-rw-r--r-- 1 root root 1.7M Mar 28 23:00 california_housing_train.csv\n",
            "-rw-r--r-- 1 root root  18M Mar 28 23:00 mnist_test.csv\n",
            "-rw-r--r-- 1 root root  35M Mar 28 23:00 mnist_train_small.csv\n",
            "-rwxr-xr-x 1 root root  930 Jan  1  2000 \u001b[01;32mREADME.md\u001b[0m*\n"
          ]
        }
      ]
    },
    {
      "cell_type": "code",
      "source": [
        "!chmod +x qvina"
      ],
      "metadata": {
        "id": "MMQlNy88l_7H"
      },
      "execution_count": null,
      "outputs": []
    },
    {
      "cell_type": "code",
      "source": [
        "!./qvina --help"
      ],
      "metadata": {
        "colab": {
          "base_uri": "https://localhost:8080/"
        },
        "id": "j2DRcJZ1mFrx",
        "outputId": "3cb83ca7-81f7-4ee2-b595-7a8f2852e280"
      },
      "execution_count": null,
      "outputs": [
        {
          "output_type": "stream",
          "name": "stdout",
          "text": [
            "\n",
            "Input:\n",
            "  --receptor arg             rigid part of the receptor (PDBQT)\n",
            "  --flex arg                 flexible side chains, if any (PDBQT)\n",
            "  --ligand arg               ligand (PDBQT)\n",
            "\n",
            "Search space (required):\n",
            "  --center_x arg             X coordinate of the center\n",
            "  --center_y arg             Y coordinate of the center\n",
            "  --center_z arg             Z coordinate of the center\n",
            "  --size_x arg               size in the X dimension (Angstroms)\n",
            "  --size_y arg               size in the Y dimension (Angstroms)\n",
            "  --size_z arg               size in the Z dimension (Angstroms)\n",
            "\n",
            "Output (optional):\n",
            "  --out arg                  output models (PDBQT), the default is chosen based\n",
            "                             on the ligand file name\n",
            "  --log arg                  optionally, write log file\n",
            "\n",
            "Misc (optional):\n",
            "  --cpu arg                  the number of CPUs to use (the default is to try \n",
            "                             to detect the number of CPUs or, failing that, use\n",
            "                             1)\n",
            "  --seed arg                 explicit random seed\n",
            "  --exhaustiveness arg (=8)  exhaustiveness of the global search (roughly \n",
            "                             proportional to time): 1+\n",
            "  --num_modes arg (=9)       maximum number of binding modes to generate\n",
            "  --energy_range arg (=3)    maximum energy difference between the best binding\n",
            "                             mode and the worst one displayed (kcal/mol)\n",
            "\n",
            "Configuration file (optional):\n",
            "  --config arg               the above options can be put here\n",
            "\n",
            "Information (optional):\n",
            "  --help                     display usage summary\n",
            "  --help_advanced            display usage summary with advanced options\n",
            "  --version                  display program version\n",
            "\n"
          ]
        }
      ]
    },
    {
      "cell_type": "markdown",
      "source": [
        "# **5. Create parameter for docking process**"
      ],
      "metadata": {
        "id": "ij5j2lORpR0p"
      }
    },
    {
      "cell_type": "code",
      "source": [
        "!echo receptor = bovineXOR.pdbqt > config.txt\n",
        "!echo center_x = 40 >> config.txt\n",
        "!echo center_y = 22 >> config.txt\n",
        "!echo center_z = 16 >> config.txt\n",
        "!echo  >> config.txt\n",
        "!echo size_x = 30 >> config.txt\n",
        "!echo size_y = 30 >> config.txt\n",
        "!echo size_z = 30 >> config.txt\n",
        "!echo  >> config.txt\n",
        "!echo exhaustiveness = 8 >> config.txt"
      ],
      "metadata": {
        "id": "R4PAMHQJmIVx"
      },
      "execution_count": null,
      "outputs": []
    },
    {
      "cell_type": "code",
      "source": [
        "!cat config.txt"
      ],
      "metadata": {
        "colab": {
          "base_uri": "https://localhost:8080/"
        },
        "id": "06MHUiOimM4r",
        "outputId": "902f1288-34b4-4c20-adea-5e543e069d52"
      },
      "execution_count": null,
      "outputs": [
        {
          "output_type": "stream",
          "name": "stdout",
          "text": [
            "receptor = bovineXOR.pdbqt\n",
            "center_x = 40\n",
            "center_y = 22\n",
            "center_z = 16\n",
            "\n",
            "size_x = 30\n",
            "size_y = 30\n",
            "size_z = 30\n",
            "\n",
            "exhaustiveness = 8\n"
          ]
        }
      ]
    },
    {
      "cell_type": "markdown",
      "source": [
        "# **6. Create output directory**"
      ],
      "metadata": {
        "id": "2umlU9ZDpdi6"
      }
    },
    {
      "cell_type": "code",
      "source": [
        "mkdir output"
      ],
      "metadata": {
        "id": "ZeM8t4MsmSTu"
      },
      "execution_count": null,
      "outputs": []
    },
    {
      "cell_type": "markdown",
      "source": [
        "# **7. Run docking process**"
      ],
      "metadata": {
        "id": "f49bGmdapjK3"
      }
    },
    {
      "cell_type": "code",
      "source": [
        "!for ligand in $(ls -1 ./ligands/); do ./qvina --ligand ./ligands/6.pdbqt --out ./output/output_ligand --config config.txt >> docking_result_output.txt; done"
      ],
      "metadata": {
        "id": "Sy4e311XmcYb"
      },
      "execution_count": null,
      "outputs": []
    },
    {
      "cell_type": "markdown",
      "source": [
        "# **8. Show results**"
      ],
      "metadata": {
        "id": "zQW_Y2T1pqmM"
      }
    },
    {
      "cell_type": "code",
      "source": [
        "ls -la output"
      ],
      "metadata": {
        "colab": {
          "base_uri": "https://localhost:8080/"
        },
        "id": "LT619TBemxH3",
        "outputId": "71d4ff75-e044-4c48-ea0d-e82f10d474fb"
      },
      "execution_count": null,
      "outputs": [
        {
          "output_type": "stream",
          "name": "stdout",
          "text": [
            "total 24\n",
            "drwxr-xr-x 2 root root  4096 Mar 31 03:44 \u001b[0m\u001b[01;34m.\u001b[0m/\n",
            "drwxr-xr-x 1 root root  4096 Mar 31 03:43 \u001b[01;34m..\u001b[0m/\n",
            "-rw-r--r-- 1 root root 13824 Mar 31 03:44 output_ligand\n"
          ]
        }
      ]
    },
    {
      "cell_type": "code",
      "source": [
        "!cat docking_result_output.txt"
      ],
      "metadata": {
        "colab": {
          "base_uri": "https://localhost:8080/"
        },
        "id": "s1LkTlSmm0nJ",
        "outputId": "63f245da-429f-4769-eb30-8e4be14a2d42"
      },
      "execution_count": null,
      "outputs": [
        {
          "output_type": "stream",
          "name": "stdout",
          "text": [
            "############################################################################\n",
            "# If you used Quick Vina 2 in your work, please cite:                      #\n",
            "#                                                                          #\n",
            "# Amr Alhossary, Stephanus Daniel Handoko, Yuguang Mu, and Chee-Keong Kwoh,#\n",
            "# Fast, Accurate, and Reliable Molecular Docking with QuickVina 2,         #\n",
            "# Bioinformatics (2015), doi: 10.1093/bioinformatics/btv082                #\n",
            "#                                                                          #\n",
            "# You are also encouraged to cite Quick Vina 1:                            #\n",
            "# Stephanus Daniel Handoko, Xuchang Ouyang, Chinh Tran To Su, Chee Keong   #\n",
            "# Kwoh, Yew Soon Ong,                                                      #\n",
            "# QuickVina: Accelerating AutoDock Vina Using Gradient-Based Heuristics for#\n",
            "# Global Optimization,                                                     #\n",
            "# IEEE/ACM Transactions on Computational Biology and Bioinformatics,vol.9, #\n",
            "# no. 5, pp. 1266-1272, Sept.-Oct. 2012, doi: 10.1109/TCBB.2012.82         #\n",
            "#                                                                          #\n",
            "# and original AutoDock Vina paper:                                        #\n",
            "# O. Trott, A. J. Olson,                                                   #\n",
            "# AutoDock Vina: improving the speed and accuracy of docking with a        #\n",
            "# new scoring function, efficient optimization and multithreading,         #\n",
            "# Journal of Computational Chemistry 31 (2010) 455-461                     #\n",
            "# doi: 10.1002/jcc.21334                                                   #\n",
            "############################################################################\n",
            "\n",
            "Detected 2 CPUs\n",
            "Reading input ... done.\n",
            "Setting up the scoring function ... done.\n",
            "Analyzing the binding site ... done.\n",
            "Using random seed: 1581531358\n",
            "Performing search ... \n",
            "0%   10   20   30   40   50   60   70   80   90   100%\n",
            "|----|----|----|----|----|----|----|----|----|----|\n",
            "***************************************************\n",
            "done.\n",
            "Refining results ... \n",
            "searching finished in 9.171 seconds\n",
            "done.\n",
            "\n",
            "mode |   affinity | dist from best mode\n",
            "     | (kcal/mol) | rmsd l.b.| rmsd u.b.\n",
            "-----+------------+----------+----------\n",
            "   1         -5.4      0.000      0.000\n",
            "   2         -5.3      2.137      3.778\n",
            "   3         -5.2     11.088     14.520\n",
            "   4         -5.2      3.008      5.168\n",
            "   5         -5.1      4.053      7.330\n",
            "   6         -5.0     11.055     13.473\n",
            "   7         -5.0     11.518     14.778\n",
            "   8         -4.8     11.488     14.980\n",
            "   9         -4.8      3.227      6.423\n",
            "Writing output ... done.\n",
            "############################################################################\n",
            "# If you used Quick Vina 2 in your work, please cite:                      #\n",
            "#                                                                          #\n",
            "# Amr Alhossary, Stephanus Daniel Handoko, Yuguang Mu, and Chee-Keong Kwoh,#\n",
            "# Fast, Accurate, and Reliable Molecular Docking with QuickVina 2,         #\n",
            "# Bioinformatics (2015), doi: 10.1093/bioinformatics/btv082                #\n",
            "#                                                                          #\n",
            "# You are also encouraged to cite Quick Vina 1:                            #\n",
            "# Stephanus Daniel Handoko, Xuchang Ouyang, Chinh Tran To Su, Chee Keong   #\n",
            "# Kwoh, Yew Soon Ong,                                                      #\n",
            "# QuickVina: Accelerating AutoDock Vina Using Gradient-Based Heuristics for#\n",
            "# Global Optimization,                                                     #\n",
            "# IEEE/ACM Transactions on Computational Biology and Bioinformatics,vol.9, #\n",
            "# no. 5, pp. 1266-1272, Sept.-Oct. 2012, doi: 10.1109/TCBB.2012.82         #\n",
            "#                                                                          #\n",
            "# and original AutoDock Vina paper:                                        #\n",
            "# O. Trott, A. J. Olson,                                                   #\n",
            "# AutoDock Vina: improving the speed and accuracy of docking with a        #\n",
            "# new scoring function, efficient optimization and multithreading,         #\n",
            "# Journal of Computational Chemistry 31 (2010) 455-461                     #\n",
            "# doi: 10.1002/jcc.21334                                                   #\n",
            "############################################################################\n",
            "\n",
            "Detected 2 CPUs\n",
            "Reading input ... done.\n",
            "Setting up the scoring function ... done.\n",
            "Analyzing the binding site ... done.\n",
            "Using random seed: -2117955907\n",
            "Performing search ... \n",
            "0%   10   20   30   40   50   60   70   80   90   100%\n",
            "|----|----|----|----|----|----|----|----|----|----|\n",
            "***************************************************\n",
            "done.\n",
            "Refining results ... \n",
            "searching finished in 9.067 seconds\n",
            "done.\n",
            "\n",
            "mode |   affinity | dist from best mode\n",
            "     | (kcal/mol) | rmsd l.b.| rmsd u.b.\n",
            "-----+------------+----------+----------\n",
            "   1         -5.8      0.000      0.000\n",
            "   2         -5.5      1.397      2.887\n",
            "   3         -5.4      8.125     10.667\n",
            "   4         -5.4      6.997      9.092\n",
            "   5         -5.3      7.976     10.938\n",
            "   6         -5.2      1.674      6.103\n",
            "   7         -5.2      0.767      5.285\n",
            "   8         -5.2      6.799      8.107\n",
            "   9         -5.2      1.136      2.061\n",
            "Writing output ... done.\n",
            "############################################################################\n",
            "# If you used Quick Vina 2 in your work, please cite:                      #\n",
            "#                                                                          #\n",
            "# Amr Alhossary, Stephanus Daniel Handoko, Yuguang Mu, and Chee-Keong Kwoh,#\n",
            "# Fast, Accurate, and Reliable Molecular Docking with QuickVina 2,         #\n",
            "# Bioinformatics (2015), doi: 10.1093/bioinformatics/btv082                #\n",
            "#                                                                          #\n",
            "# You are also encouraged to cite Quick Vina 1:                            #\n",
            "# Stephanus Daniel Handoko, Xuchang Ouyang, Chinh Tran To Su, Chee Keong   #\n",
            "# Kwoh, Yew Soon Ong,                                                      #\n",
            "# QuickVina: Accelerating AutoDock Vina Using Gradient-Based Heuristics for#\n",
            "# Global Optimization,                                                     #\n",
            "# IEEE/ACM Transactions on Computational Biology and Bioinformatics,vol.9, #\n",
            "# no. 5, pp. 1266-1272, Sept.-Oct. 2012, doi: 10.1109/TCBB.2012.82         #\n",
            "#                                                                          #\n",
            "# and original AutoDock Vina paper:                                        #\n",
            "# O. Trott, A. J. Olson,                                                   #\n",
            "# AutoDock Vina: improving the speed and accuracy of docking with a        #\n",
            "# new scoring function, efficient optimization and multithreading,         #\n",
            "# Journal of Computational Chemistry 31 (2010) 455-461                     #\n",
            "# doi: 10.1002/jcc.21334                                                   #\n",
            "############################################################################\n",
            "\n",
            "Detected 2 CPUs\n",
            "Reading input ... done.\n",
            "Setting up the scoring function ... done.\n",
            "Analyzing the binding site ... done.\n",
            "Using random seed: 1029993232\n",
            "Performing search ... \n",
            "0%   10   20   30   40   50   60   70   80   90   100%\n",
            "|----|----|----|----|----|----|----|----|----|----|\n",
            "***************************************************\n",
            "done.\n",
            "Refining results ... \n",
            "searching finished in 7.702 seconds\n",
            "done.\n",
            "\n",
            "mode |   affinity | dist from best mode\n",
            "     | (kcal/mol) | rmsd l.b.| rmsd u.b.\n",
            "-----+------------+----------+----------\n",
            "   1         -5.6      0.000      0.000\n",
            "   2         -5.5      6.734      9.945\n",
            "   3         -5.4      5.032      6.948\n",
            "   4         -5.4     10.128     13.000\n",
            "   5         -5.3     10.358     12.680\n",
            "   6         -5.2      5.102      7.037\n",
            "   7         -5.2     13.224     14.641\n",
            "   8         -5.1      4.774      5.993\n",
            "   9         -5.0      4.934      5.825\n",
            "Writing output ... done.\n"
          ]
        }
      ]
    }
  ]
}